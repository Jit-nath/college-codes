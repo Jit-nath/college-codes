{
 "cells": [
  {
   "cell_type": "code",
   "execution_count": 2,
   "id": "b8892c5e-2a55-4793-b06a-9e6bb8268a6a",
   "metadata": {},
   "outputs": [],
   "source": [
    "import pandas as pd\n",
    "import numpy as np"
   ]
  },
  {
   "cell_type": "code",
   "execution_count": 3,
   "id": "7a0412b1-775e-4e76-88cb-bb12fb851b41",
   "metadata": {},
   "outputs": [],
   "source": [
    "s1 = pd.Series([2,4,6,8,10])\n",
    "s2 = pd.Series([1,3,5,7,9])"
   ]
  },
  {
   "cell_type": "code",
   "execution_count": 5,
   "id": "f9cccede-f17d-41f9-ac53-b1021e8b0b29",
   "metadata": {},
   "outputs": [
    {
     "name": "stdout",
     "output_type": "stream",
     "text": [
      "added two series \n",
      "0     3\n",
      "1     7\n",
      "2    11\n",
      "3    15\n",
      "4    19\n",
      "dtype: int64\n"
     ]
    }
   ],
   "source": [
    "print(f\"added two series \\n{s1+s2}\")"
   ]
  },
  {
   "cell_type": "code",
   "execution_count": null,
   "id": "8e284aa9-5c50-407e-a5c1-317568343e7b",
   "metadata": {},
   "outputs": [],
   "source": []
  }
 ],
 "metadata": {
  "kernelspec": {
   "display_name": "Python 3 (ipykernel)",
   "language": "python",
   "name": "python3"
  },
  "language_info": {
   "codemirror_mode": {
    "name": "ipython",
    "version": 3
   },
   "file_extension": ".py",
   "mimetype": "text/x-python",
   "name": "python",
   "nbconvert_exporter": "python",
   "pygments_lexer": "ipython3",
   "version": "3.13.3"
  }
 },
 "nbformat": 4,
 "nbformat_minor": 5
}
