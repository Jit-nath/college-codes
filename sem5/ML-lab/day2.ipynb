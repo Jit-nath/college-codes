{
 "cells": [
  {
   "cell_type": "code",
   "execution_count": null,
   "id": "d6150f29",
   "metadata": {},
   "outputs": [
    {
     "name": "stdout",
     "output_type": "stream",
     "text": [
      "fibonacci of 10 is 55\n"
     ]
    }
   ],
   "source": [
    "# Fibonacci Series\n",
    "a = int(input(\"Enter a number for fibonacci series\"))\n",
    "\n",
    "\n",
    "def fibbo(n):\n",
    "    if n == 0:\n",
    "        return 0\n",
    "    elif n == 1:\n",
    "        return 1\n",
    "    return fibbo(n - 1) + fibbo(n - 2)\n",
    "\n",
    "\n",
    "print(f\"fibonacci of {a} is {fibbo(a)}\")"
   ]
  },
  {
   "cell_type": "code",
   "execution_count": null,
   "id": "3eece617",
   "metadata": {},
   "outputs": [],
   "source": [
    "# Armstrong Number\n",
    "\n",
    "a = int(input(\"Enter a number to check armstrong number\"))"
   ]
  },
  {
   "cell_type": "code",
   "execution_count": null,
   "id": "76aee925",
   "metadata": {},
   "outputs": [
    {
     "name": "stdout",
     "output_type": "stream",
     "text": [
      "\n",
      "*\n",
      "**\n",
      "***\n",
      "****\n"
     ]
    }
   ],
   "source": [
    "# Right aligned Triangle\n",
    "\"\"\"\n",
    "*\n",
    "**\n",
    "***\n",
    "****\n",
    "\"\"\"\n",
    "\n",
    "\n",
    "def pattern1(size):\n",
    "    for i in range(size):\n",
    "        for _ in range(i):\n",
    "            print(\"*\", end=\"\")\n",
    "        print()\n",
    "\n",
    "\n",
    "inp = int(input(\"Enter range\"))\n",
    "pattern1(inp)"
   ]
  },
  {
   "cell_type": "code",
   "execution_count": null,
   "id": "86961962",
   "metadata": {},
   "outputs": [],
   "source": [
    "# pattern 2\n",
    "\"\"\"\n",
    "*\n",
    "**\n",
    "******\n",
    "    **\n",
    "     *\n",
    "\"\"\"\n",
    "\n",
    "\n",
    "def thunder(size):\n",
    "    crossSize = size / 2 - 1\n",
    "    for i in range(crossSize):\n",
    "        for _ in range(i):\n",
    "            print(\"*\", end=\"\")\n",
    "        print()\n",
    "    for i in range(size+1):\n",
    "        print(\"*\",end=\"\")"
   ]
  }
 ],
 "metadata": {
  "kernelspec": {
   "display_name": "Python 3",
   "language": "python",
   "name": "python3"
  },
  "language_info": {
   "codemirror_mode": {
    "name": "ipython",
    "version": 3
   },
   "file_extension": ".py",
   "mimetype": "text/x-python",
   "name": "python",
   "nbconvert_exporter": "python",
   "pygments_lexer": "ipython3",
   "version": "3.13.5"
  }
 },
 "nbformat": 4,
 "nbformat_minor": 5
}
